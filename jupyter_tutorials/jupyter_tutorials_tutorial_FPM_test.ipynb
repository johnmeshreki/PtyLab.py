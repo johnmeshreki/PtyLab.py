{
 "cells": [
  {
   "attachments": {},
   "cell_type": "markdown",
   "metadata": {},
   "source": [
    "# ptyLab introduction (FP)\n",
    "\n",
    "ptyLab is a highly modular coding package which can be used for both conventional and Fourier ptychography. Due to the modular nature it is easy to modify the code for various tasks and add your own functions, such as a new reconstruction engine or a calibration routine. To understand ptyLab we need to understand the basic classes contained within, which are briefly outlined below:\n",
    "\n",
    "\n",
    " -  ExperimentalData - this class is used to import the experimental data from an .hdf5 file. If the file contains the experimental images stored as an image stack (called ptychogram), probe/LED positions and several experimental parameters, then the data can be successfully imported and reconstructed.\n",
    " -  Reconstruction - this class creates various objects from the immutable ExperimentalData class which will be optimized/updated i.e. are mutable. \n",
    " -  Params - this class stores parameters use for the reconstruction such that they could be exported/imported for different experiments\n",
    " -  Engines - all the engines used for the reconstruction are based on this class, which take the ExperimentalData and Optimizable objects as parameters and perform object/probe/pupil reconstruction.\n",
    " -  Monitor - visualization class used to display the reconstruction process\n",
    " -  CalibrationFPM - this package contains k-space position calibration routines caused by misaligned LED positions.\n"
   ]
  },
  {
   "cell_type": "code",
   "execution_count": 23,
   "metadata": {},
   "outputs": [],
   "source": [
    "import sys\n",
    "# caution: path[0] is reserved for script path (or '' in REPL)\n",
    "sys.path.insert(1, '/home/meshreki/repos/PtyLab.py/example_scripts/')\n",
    "\n",
    "try:\n",
    "    from .context import PtyLab\n",
    "except Exception:  # ImportError\n",
    "    from context import PtyLab"
   ]
  },
  {
   "cell_type": "code",
   "execution_count": 24,
   "metadata": {},
   "outputs": [],
   "source": [
    "import matplotlib\n",
    "import matplotlib.pyplot as plt\n",
    "import numpy as np\n",
    "%matplotlib inline"
   ]
  },
  {
   "cell_type": "code",
   "execution_count": 25,
   "metadata": {},
   "outputs": [],
   "source": [
    "from PtyLab.io import getExampleDataFolder\n",
    "from PtyLab import Engines\n",
    "import PtyLab"
   ]
  },
  {
   "cell_type": "code",
   "execution_count": 9,
   "metadata": {
    "scrolled": false
   },
   "outputs": [
    {
     "name": "stdout",
     "output_type": "stream",
     "text": [
      "Found encoder with shape (293, 2)\n"
     ]
    },
    {
     "name": "stderr",
     "output_type": "stream",
     "text": [
      "Copying attribute wavelength\n",
      "Copying attribute dxd\n",
      "Copying attribute zled\n",
      "Copying attribute NA\n"
     ]
    },
    {
     "name": "stdout",
     "output_type": "stream",
     "text": [
      "\"Unable to open object (object 'orientation' doesn't exist)\"\n"
     ]
    }
   ],
   "source": [
    "fileName = 'ResTarget_v6.hdf5'\n",
    "#fileName = 'ResTarget_v4.hdf5'\n",
    "#fileName = 'ResTarget_v3.hdf5'\n",
    "#fileName = 'LungCarcinomaFPM.hdf5'\n",
    "#fileName = 'simu.hdf5'\n",
    "# fileName = 'USAFTargetFPM.hdf5'\n",
    "#filePath = getExampleDataFolder() / fileName\n",
    "filePath = '/run/user/1001/gvfs/smb-share:server=filer.uni-siegen.de,share=xnas/CSE/CSE-Research/Microscopy3D/CV_CSE_Collaboration/Results/CV_CSE/PtyLab/' + fileName\n",
    "\n",
    "exampleData, reconstruction, params, monitor, engine, calib = PtyLab.easyInitialize(filePath, operationMode='FPM')"
   ]
  },
  {
   "attachments": {},
   "cell_type": "markdown",
   "metadata": {},
   "source": [
    "# FPM hdf5 file content"
   ]
  },
  {
   "cell_type": "code",
   "execution_count": 10,
   "metadata": {},
   "outputs": [
    {
     "data": {
      "text/plain": [
       "(292, 2160, 2160)"
      ]
     },
     "execution_count": 10,
     "metadata": {},
     "output_type": "execute_result"
    }
   ],
   "source": [
    "exampleData.ptychogram.shape"
   ]
  },
  {
   "cell_type": "code",
   "execution_count": 11,
   "metadata": {},
   "outputs": [
    {
     "data": {
      "text/plain": [
       "(293, 2)"
      ]
     },
     "execution_count": 11,
     "metadata": {},
     "output_type": "execute_result"
    }
   ],
   "source": [
    "exampleData.encoder.shape"
   ]
  },
  {
   "cell_type": "code",
   "execution_count": 12,
   "metadata": {},
   "outputs": [
    {
     "data": {
      "text/plain": [
       "6.291999852692243e-06"
      ]
     },
     "execution_count": 12,
     "metadata": {},
     "output_type": "execute_result"
    }
   ],
   "source": [
    "exampleData.wavelength"
   ]
  },
  {
   "cell_type": "code",
   "execution_count": 13,
   "metadata": {},
   "outputs": [
    {
     "data": {
      "text/plain": [
       "6.500000040432496e-07"
      ]
     },
     "execution_count": 13,
     "metadata": {},
     "output_type": "execute_result"
    }
   ],
   "source": [
    "exampleData.dxd"
   ]
  },
  {
   "cell_type": "code",
   "execution_count": 14,
   "metadata": {},
   "outputs": [
    {
     "data": {
      "text/plain": [
       "0.06750000268220901"
      ]
     },
     "execution_count": 14,
     "metadata": {},
     "output_type": "execute_result"
    }
   ],
   "source": [
    "exampleData.zled"
   ]
  },
  {
   "cell_type": "code",
   "execution_count": 15,
   "metadata": {},
   "outputs": [
    {
     "data": {
      "text/plain": [
       "10.0"
      ]
     },
     "execution_count": 15,
     "metadata": {},
     "output_type": "execute_result"
    }
   ],
   "source": [
    "exampleData.magnification"
   ]
  },
  {
   "cell_type": "code",
   "execution_count": 16,
   "metadata": {},
   "outputs": [
    {
     "data": {
      "text/plain": [
       "0.30000001192092896"
      ]
     },
     "execution_count": 16,
     "metadata": {},
     "output_type": "execute_result"
    }
   ],
   "source": [
    "exampleData.NA"
   ]
  },
  {
   "cell_type": "markdown",
   "metadata": {},
   "source": [
    "## ExperimentalData class\n",
    "The data must be stored as a \".hdf5\" file, which enables structured file storage. For ptychographic data, experimental parameters such as wavelength or pixel size can be convieniently stored together with illumination/ecoder positions and the actual raw images/diffraction data in a single file.\n",
    "\n",
    "A minimal list of fields required for ptyLab to work are:\n",
    "- ptychogram - 3D image/diffraction data stack \n",
    "- wavelength - illumination lambda\n",
    "- encoder - encoder positions / illumination angles\n",
    "- dxd - detector pixel size\n",
    "- zled - illumination-to-sample propagation distance\n",
    "- magnification - magnification of the microscope\n",
    "\n",
    "Also we have optional fields because they will either be computed later from the \"required_fields\" or are required for FPM, but not CPM (or vice-versa). If not provided by the user they will be set as None.\n",
    "- NA -  numerical aperture of the microscope\n",
    "\n",
    "The \".hdf5\" file must contain a field called \"ptychogram\" containing the experimental raw images as a 3D array of shape [numFrames,X,Y], where numFrames is the number of images corresponding to each illumination vector in the \"encoder\" and X-Y are the 2D image dimensions. \n",
    "\n",
    "The \".hdf5\" file must have a field called \"encoder\" containing the translation stage positions in units of meters (for CP) or the illumination angles in units of rad (for FP). The field \"encoder\" has a 2D shape [numFrames,2], where numFrames is the number of positions.\n",
    "\n",
    "We start off our demonstration by creating the ExperimentalData() class which is used to load the .hdf5 file. In this example the variable \"exampleData\" will contain our class."
   ]
  },
  {
   "cell_type": "code",
   "execution_count": 17,
   "metadata": {},
   "outputs": [],
   "source": [
    "mean_img = np.mean(exampleData.ptychogram,0)"
   ]
  },
  {
   "cell_type": "markdown",
   "metadata": {
    "scrolled": false
   },
   "source": [
    "## Reconstruction class\n",
    "The ExperimentalData class contains immutable values. The Reconstruction class creates an object which will be mutable during the reconstruction or calibration procedure. It contains the reconstructed object and the probe/pupil. \n",
    "\n",
    "In FPM the intial object estimate can be computed from the raw data. \"reconstruction.initialObject = 'upsampled'\" will take the low-resolution raw data and create an upsampled object estimate via interpolation. The probe/pupil is set to be a clear circle representing a fully transparent aperture without any aberration. Once everything is set use \"initializeObjectProbe()\" method."
   ]
  },
  {
   "cell_type": "code",
   "execution_count": 18,
   "metadata": {},
   "outputs": [],
   "source": [
    "reconstruction.initialProbe = 'circ'\n",
    "reconstruction.initialObject = 'upsampled'\n",
    "reconstruction.initializeObjectProbe()\n",
    "\n",
    "import copy\n",
    "reconstruction0 = copy.deepcopy(reconstruction)"
   ]
  },
  {
   "cell_type": "markdown",
   "metadata": {},
   "source": [
    "## Monitor class\n",
    "This class will create a monitor to visualize the reconstruction. "
   ]
  },
  {
   "cell_type": "code",
   "execution_count": 19,
   "metadata": {},
   "outputs": [],
   "source": [
    "# Set monitor properties\n",
    "monitor.figureUpdateFrequency = 10\n",
    "monitor.objectPlot = 'complex'  \n",
    "monitor.verboseLevel = 'low'\n",
    "monitor.objectPlotZoom = .01 \n",
    "monitor.probePlotZoom = .01 "
   ]
  },
  {
   "cell_type": "markdown",
   "metadata": {},
   "source": [
    "## Params class\n",
    "This class holds various switches and parameters that can be specified before a reconstruction is carried out. For instance to determine whether the reconstruction is carried out on CPU or GPU, or to specify the order of probe positions to be random or sequential."
   ]
  },
  {
   "cell_type": "code",
   "execution_count": 20,
   "metadata": {},
   "outputs": [],
   "source": [
    "#params.gpuSwitch = False\n",
    "params.gpuSwitch = True\n",
    "params.positionOrder = 'NA'\n",
    "params.probeBoundary = True\n",
    "params.adaptiveDenoisingSwitch = True"
   ]
  },
  {
   "cell_type": "markdown",
   "metadata": {},
   "source": [
    "## IlluminationCalibration class\n",
    "Calibration class based on \"Regina Eckert, Zachary F. Phillips, and Laura Waller, \"Efficient illumination angle self-calibration in Fourier ptychography,\" Appl. Opt. 57, 5434-5442 (2018)\""
   ]
  },
  {
   "cell_type": "code",
   "execution_count": 21,
   "metadata": {},
   "outputs": [
    {
     "name": "stderr",
     "output_type": "stream",
     "text": [
      "/home/meshreki/anaconda3_2023_05_15/envs/Ptylab/lib/python3.11/site-packages/scikit_learn-1.2.2-py3.11-linux-x86_64.egg/sklearn/cluster/_kmeans.py:870: FutureWarning: The default value of `n_init` will change from 10 to 'auto' in 1.4. Set the value of `n_init` explicitly to suppress the warning\n",
      "  warnings.warn(\n"
     ]
    },
    {
     "ename": "IndexError",
     "evalue": "boolean index did not match indexed array along dimension 0; dimension is 293 but corresponding boolean dimension is 292",
     "output_type": "error",
     "traceback": [
      "\u001b[0;31m---------------------------------------------------------------------------\u001b[0m",
      "\u001b[0;31mIndexError\u001b[0m                                Traceback (most recent call last)",
      "Cell \u001b[0;32mIn[21], line 4\u001b[0m\n\u001b[1;32m      2\u001b[0m calib\u001b[39m.\u001b[39mfit_mode \u001b[39m=\u001b[39m\u001b[39m'\u001b[39m\u001b[39mSimilarityTransform\u001b[39m\u001b[39m'\u001b[39m\n\u001b[1;32m      3\u001b[0m calib\u001b[39m.\u001b[39mcalibrateRadius \u001b[39m=\u001b[39m \u001b[39mTrue\u001b[39;00m\n\u001b[0;32m----> 4\u001b[0m calib\u001b[39m.\u001b[39;49mrunCalibration()\n",
      "File \u001b[0;32m~/repos/PtyLab.py/PtyLab/Reconstruction/CalibrationFPM.py:873\u001b[0m, in \u001b[0;36mIlluminationCalibration.runCalibration\u001b[0;34m(self)\u001b[0m\n\u001b[1;32m    868\u001b[0m \u001b[39m# calibrate the aperture radius / NA\u001b[39;00m\n\u001b[1;32m    869\u001b[0m \u001b[39mif\u001b[39;00m \u001b[39mself\u001b[39m\u001b[39m.\u001b[39mcalibrateRadius:\n\u001b[1;32m    870\u001b[0m     oldRadius, newRadius \u001b[39m=\u001b[39m \u001b[39mself\u001b[39m\u001b[39m.\u001b[39mfindCalibratedRadius(\n\u001b[1;32m    871\u001b[0m         \u001b[39mself\u001b[39m\u001b[39m.\u001b[39mptychogram[\u001b[39mself\u001b[39m\u001b[39m.\u001b[39mbrightfieldIndices],\n\u001b[1;32m    872\u001b[0m         FFT_ptychogram[\u001b[39mself\u001b[39m\u001b[39m.\u001b[39mbrightfieldIndices],\n\u001b[0;32m--> 873\u001b[0m         \u001b[39mself\u001b[39;49m\u001b[39m.\u001b[39;49minitialPositions[\u001b[39mself\u001b[39;49m\u001b[39m.\u001b[39;49mbrightfieldIndices],\n\u001b[1;32m    874\u001b[0m     )\n\u001b[1;32m    875\u001b[0m     \u001b[39mprint\u001b[39m(\u001b[39m\"\u001b[39m\u001b[39mInitial radius was \u001b[39m\u001b[39m{}\u001b[39;00m\u001b[39mpx\u001b[39m\u001b[39m\"\u001b[39m\u001b[39m.\u001b[39mformat(np\u001b[39m.\u001b[39mround(oldRadius, \u001b[39m2\u001b[39m)))\n\u001b[1;32m    876\u001b[0m     \u001b[39mprint\u001b[39m(\u001b[39m\"\u001b[39m\u001b[39mCalibrated radius is \u001b[39m\u001b[39m{}\u001b[39;00m\u001b[39mpx\u001b[39m\u001b[39m\"\u001b[39m\u001b[39m.\u001b[39mformat(np\u001b[39m.\u001b[39mround(newRadius, \u001b[39m2\u001b[39m)))\n",
      "\u001b[0;31mIndexError\u001b[0m: boolean index did not match indexed array along dimension 0; dimension is 293 but corresponding boolean dimension is 292"
     ]
    }
   ],
   "source": [
    "calib.plot = True\n",
    "calib.fit_mode ='SimilarityTransform'\n",
    "calib.calibrateRadius = True\n",
    "calib.runCalibration()"
   ]
  },
  {
   "cell_type": "markdown",
   "metadata": {},
   "source": [
    "## Engine class\n",
    "A specific engine can be imported (e.g. ePIE, mPIE etc.) and used on the reconstruction class to optimize our initial estimates for the object/probe. In this example we use the quasi-Newton method to reconstruct the data, by passing the reconstruction, exampleData and monitor objects to be used during the reconstruction"
   ]
  },
  {
   "cell_type": "code",
   "execution_count": 22,
   "metadata": {
    "scrolled": true
   },
   "outputs": [
    {
     "name": "stderr",
     "output_type": "stream",
     "text": [
      "/home/meshreki/repos/PtyLab.py/PtyLab/Engines/BaseEngine.py:379: UserWarning: fftshiftSwitch set to false, this may lead to reduced performance\n",
      "  warnings.warn(\n",
      "/home/meshreki/repos/PtyLab.py/PtyLab/Monitor/Plots.py:171: UserWarning: Matplotlib is currently using module://matplotlib_inline.backend_inline, which is a non-GUI backend, so cannot show the figure.\n",
      "  self.figure.show()\n"
     ]
    },
    {
     "name": "stdout",
     "output_type": "stream",
     "text": [
      "qNewton:   0%|          | 0/200 [00:09<?, ?it/s]\n"
     ]
    },
    {
     "ename": "IndexError",
     "evalue": "Index 292 is out of bounds for axis 0 with size 292",
     "output_type": "error",
     "traceback": [
      "\u001b[0;31m---------------------------------------------------------------------------\u001b[0m",
      "\u001b[0;31mIndexError\u001b[0m                                Traceback (most recent call last)",
      "Cell \u001b[0;32mIn[22], line 3\u001b[0m\n\u001b[1;32m      1\u001b[0m engine \u001b[39m=\u001b[39m Engines\u001b[39m.\u001b[39mqNewton(reconstruction, exampleData, params, monitor)\n\u001b[1;32m      2\u001b[0m engine\u001b[39m.\u001b[39mnumIterations \u001b[39m=\u001b[39m \u001b[39m200\u001b[39m\n\u001b[0;32m----> 3\u001b[0m engine\u001b[39m.\u001b[39;49mreconstruct()\n",
      "File \u001b[0;32m~/repos/PtyLab.py/PtyLab/Engines/qNewton.py:77\u001b[0m, in \u001b[0;36mqNewton.reconstruct\u001b[0;34m(self, experimentalData)\u001b[0m\n\u001b[1;32m     74\u001b[0m \u001b[39mself\u001b[39m\u001b[39m.\u001b[39mreconstruction\u001b[39m.\u001b[39mesw \u001b[39m=\u001b[39m objectPatch \u001b[39m*\u001b[39m \u001b[39mself\u001b[39m\u001b[39m.\u001b[39mreconstruction\u001b[39m.\u001b[39mprobe\n\u001b[1;32m     76\u001b[0m \u001b[39m# propagate to camera, intensityProjection, propagate back to object\u001b[39;00m\n\u001b[0;32m---> 77\u001b[0m \u001b[39mself\u001b[39;49m\u001b[39m.\u001b[39;49mintensityProjection(positionIndex)\n\u001b[1;32m     79\u001b[0m \u001b[39m# difference term\u001b[39;00m\n\u001b[1;32m     80\u001b[0m DELTA \u001b[39m=\u001b[39m \u001b[39mself\u001b[39m\u001b[39m.\u001b[39mreconstruction\u001b[39m.\u001b[39meswUpdate \u001b[39m-\u001b[39m \u001b[39mself\u001b[39m\u001b[39m.\u001b[39mreconstruction\u001b[39m.\u001b[39mesw\n",
      "File \u001b[0;32m~/repos/PtyLab.py/PtyLab/Engines/BaseEngine.py:902\u001b[0m, in \u001b[0;36mBaseEngine.intensityProjection\u001b[0;34m(self, positionIndex)\u001b[0m\n\u001b[1;32m    897\u001b[0m \u001b[39melse\u001b[39;00m:\n\u001b[1;32m    898\u001b[0m     \u001b[39mself\u001b[39m\u001b[39m.\u001b[39mreconstruction\u001b[39m.\u001b[39mIestimated \u001b[39m=\u001b[39m xp\u001b[39m.\u001b[39msum(\n\u001b[1;32m    899\u001b[0m         xp\u001b[39m.\u001b[39mabs(\u001b[39mself\u001b[39m\u001b[39m.\u001b[39mreconstruction\u001b[39m.\u001b[39mESW) \u001b[39m*\u001b[39m\u001b[39m*\u001b[39m \u001b[39m2\u001b[39m, axis\u001b[39m=\u001b[39m(\u001b[39m0\u001b[39m, \u001b[39m1\u001b[39m, \u001b[39m2\u001b[39m)\n\u001b[1;32m    900\u001b[0m     )[\u001b[39m-\u001b[39m\u001b[39m1\u001b[39m]\n\u001b[1;32m    901\u001b[0m     \u001b[39mself\u001b[39m\u001b[39m.\u001b[39mlogger\u001b[39m.\u001b[39mdebug(\n\u001b[0;32m--> 902\u001b[0m         \u001b[39mf\u001b[39m\u001b[39m\"\u001b[39m\u001b[39mEstimated intensity: \u001b[39m\u001b[39m{\u001b[39;00m\u001b[39mself\u001b[39m\u001b[39m.\u001b[39mreconstruction\u001b[39m.\u001b[39mIestimated\u001b[39m.\u001b[39msum()\u001b[39m}\u001b[39;00m\u001b[39m, Measured: \u001b[39m\u001b[39m{\u001b[39;00m\u001b[39mself\u001b[39;49m\u001b[39m.\u001b[39;49mexperimentalData\u001b[39m.\u001b[39;49mptychogram[positionIndex]\u001b[39m.\u001b[39msum()\u001b[39m}\u001b[39;00m\u001b[39m\"\u001b[39m\n\u001b[1;32m    903\u001b[0m     )\n\u001b[1;32m    904\u001b[0m \u001b[39mif\u001b[39;00m \u001b[39mself\u001b[39m\u001b[39m.\u001b[39mparams\u001b[39m.\u001b[39mbackgroundModeSwitch:\n\u001b[1;32m    905\u001b[0m     \u001b[39mself\u001b[39m\u001b[39m.\u001b[39mreconstruction\u001b[39m.\u001b[39mIestimated \u001b[39m+\u001b[39m\u001b[39m=\u001b[39m \u001b[39mself\u001b[39m\u001b[39m.\u001b[39mreconstruction\u001b[39m.\u001b[39mbackground\n",
      "File \u001b[0;32mcupy/_core/core.pyx:1526\u001b[0m, in \u001b[0;36mcupy._core.core._ndarray_base.__getitem__\u001b[0;34m()\u001b[0m\n",
      "File \u001b[0;32mcupy/_core/_routines_indexing.pyx:34\u001b[0m, in \u001b[0;36mcupy._core._routines_indexing._ndarray_getitem\u001b[0;34m()\u001b[0m\n",
      "File \u001b[0;32mcupy/_core/_routines_indexing.pyx:411\u001b[0m, in \u001b[0;36mcupy._core._routines_indexing._view_getitem\u001b[0;34m()\u001b[0m\n",
      "\u001b[0;31mIndexError\u001b[0m: Index 292 is out of bounds for axis 0 with size 292"
     ]
    },
    {
     "data": {
      "image/png": "[encoded data removed]",
      "text/plain": [
       "<Figure size 1000x300 with 5 Axes>"
      ]
     },
     "metadata": {},
     "output_type": "display_data"
    }
   ],
   "source": [
    "engine = Engines.qNewton(reconstruction, exampleData, params, monitor)\n",
    "engine.numIterations = 200\n",
    "engine.reconstruct()"
   ]
  },
  {
   "cell_type": "code",
   "execution_count": null,
   "metadata": {},
   "outputs": [],
   "source": [
    "from PtyLab.utils.utils import fft2c, ifft2c\n",
    "from PtyLab.utils.visualisation import modeTile, complex2rgb\n",
    "plt.rcParams['figure.figsize'] = [12, 12]\n",
    "plt.rcParams['figure.dpi'] = 100 \n",
    "\n",
    "plt.subplot(131)\n",
    "plt.title('raw data')\n",
    "plt.imshow(abs(mean_img),cmap='gray')\n",
    "plt.subplot(132)\n",
    "plt.title('reconstructed amplitude')\n",
    "plt.imshow(abs(modeTile(fft2c(reconstruction.object))),cmap='gray')\n",
    "plt.subplot(133)\n",
    "plt.title('complex reconstruction')\n",
    "plt.imshow(complex2rgb(modeTile(fft2c(reconstruction.object))))"
   ]
  },
  {
   "cell_type": "markdown",
   "metadata": {},
   "source": [
    "# Phase curvature correction in Fourier ptychography\n",
    "Phase curvature in the complex plot is present because a non-telecentric imaging systems was used to acquire the data. There is also an additional curvature due to illumination. Both were described in https://doi.org/10.1364/OE.458657. \n",
    "\n",
    "The algorithm outlined in https://doi.org/10.1364/OE.458657 initializes the object with a phase curvature and removes it post reconstruction. In doing so, artefact free reconstruction is obtained together with improved convergence.\n",
    "\n",
    "First, compute the combined phase curvature term due to non-telecentricity and illumination."
   ]
  },
  {
   "cell_type": "code",
   "execution_count": null,
   "metadata": {},
   "outputs": [],
   "source": [
    "wavelength = reconstruction.wavelength\n",
    "Np = reconstruction.Np\n",
    "No = reconstruction.No\n",
    "dxp = reconstruction.dxp\n",
    "z=120e-3 # illumination to sample distance\n",
    "u=60e-3 # sample to lens distance\n",
    "\n",
    "# create the coordinate grid\n",
    "x = np.linspace(-Np / 2 , Np / 2, No) \n",
    "Yp, Xp = np.meshgrid(x, x)\n",
    "Yp = Yp*dxp\n",
    "Xp = Xp*dxp\n",
    "\n",
    "# illumination phase curvature\n",
    "ill_curvature = np.exp(1j*np.pi/wavelength * (1/z) * (Xp**2 + Yp**2))\n",
    "# non-telecentricity induced phase curvature\n",
    "tele_curvature = np.exp(1j*np.pi/wavelength * (1/u) * (Xp**2 + Yp**2))\n",
    "# combined curvature\n",
    "total_curvature = ill_curvature * tele_curvature\n",
    "\n",
    "plt.subplot(132)\n",
    "plt.title('Phase curvature')\n",
    "plt.imshow(complex2rgb(total_curvature))"
   ]
  },
  {
   "cell_type": "markdown",
   "metadata": {},
   "source": [
    "Now initialize the object with the phase curvature, reconstruct and remove it."
   ]
  },
  {
   "cell_type": "code",
   "execution_count": null,
   "metadata": {},
   "outputs": [],
   "source": [
    "# Initialize the object + curvature\n",
    "reconstruction = copy.deepcopy(reconstruction0)\n",
    "reconstruction.object = ifft2c(fft2c(reconstruction.object) * total_curvature.conj())\n",
    "\n",
    "# Reconstruct\n",
    "engine = Engines.qNewton(reconstruction, exampleData, params, monitor)\n",
    "engine.numIterations = 200\n",
    "engine.reconstruct()\n",
    "\n",
    "# Remove the curvature\n",
    "fixed_object = modeTile(fft2c(reconstruction.object) * total_curvature);"
   ]
  },
  {
   "cell_type": "markdown",
   "metadata": {},
   "source": [
    "The resulting reconstruction is free from phase artefacts and benefits from faster convergence."
   ]
  },
  {
   "cell_type": "code",
   "execution_count": null,
   "metadata": {},
   "outputs": [],
   "source": [
    "plt.subplot(131)\n",
    "plt.title('raw data')\n",
    "plt.imshow(abs(mean_img),cmap='gray')\n",
    "plt.subplot(132)\n",
    "plt.title('reconstructed amplitude')\n",
    "plt.imshow(abs(fixed_object),cmap='gray')\n",
    "plt.subplot(133)\n",
    "plt.title('complex reconstruction')\n",
    "plt.imshow(complex2rgb(fixed_object))"
   ]
  },
  {
   "cell_type": "code",
   "execution_count": null,
   "metadata": {},
   "outputs": [],
   "source": []
  }
 ],
 "metadata": {
  "kernelspec": {
   "display_name": "Python 3 (ipykernel)",
   "language": "python",
   "name": "python3"
  },
  "language_info": {
   "codemirror_mode": {
    "name": "ipython",
    "version": 3
   },
   "file_extension": ".py",
   "mimetype": "text/x-python",
   "name": "python",
   "nbconvert_exporter": "python",
   "pygments_lexer": "ipython3",
   "version": "3.11.3"
  }
 },
 "nbformat": 4,
 "nbformat_minor": 4
}
